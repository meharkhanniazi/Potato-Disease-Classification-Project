{
 "cells": [
  {
   "cell_type": "code",
   "execution_count": 28,
   "id": "eab3caad",
   "metadata": {},
   "outputs": [],
   "source": [
    "import tensorflow as tf"
   ]
  },
  {
   "cell_type": "code",
   "execution_count": 29,
   "id": "bb90f8e2",
   "metadata": {},
   "outputs": [],
   "source": [
    "daily_sales = [45,668,21,69,41,-854,63,21,-656]"
   ]
  },
  {
   "cell_type": "code",
   "execution_count": 30,
   "id": "11d9bd92",
   "metadata": {},
   "outputs": [
    {
     "data": {
      "text/plain": [
       "[45, 668, 21, 69, 41, -854, 63, 21, -656]"
      ]
     },
     "execution_count": 30,
     "metadata": {},
     "output_type": "execute_result"
    }
   ],
   "source": [
    "daily_sales"
   ]
  },
  {
   "cell_type": "code",
   "execution_count": 31,
   "id": "d96ff183",
   "metadata": {},
   "outputs": [],
   "source": [
    "tf_dataset = tf.data.Dataset.from_tensor_slices(daily_sales)"
   ]
  },
  {
   "cell_type": "code",
   "execution_count": 32,
   "id": "a8badf10",
   "metadata": {},
   "outputs": [
    {
     "data": {
      "text/plain": [
       "<TensorSliceDataset shapes: (), types: tf.int32>"
      ]
     },
     "execution_count": 32,
     "metadata": {},
     "output_type": "execute_result"
    }
   ],
   "source": [
    "tf_dataset"
   ]
  },
  {
   "cell_type": "code",
   "execution_count": 33,
   "id": "f4c0a34d",
   "metadata": {},
   "outputs": [
    {
     "name": "stdout",
     "output_type": "stream",
     "text": [
      "45\n",
      "668\n",
      "21\n",
      "69\n",
      "41\n",
      "-854\n",
      "63\n",
      "21\n",
      "-656\n"
     ]
    }
   ],
   "source": [
    "for sales in tf_dataset.as_numpy_iterator():\n",
    "    print(sales)"
   ]
  },
  {
   "cell_type": "code",
   "execution_count": 34,
   "id": "d5535591",
   "metadata": {},
   "outputs": [],
   "source": [
    "tf_dataset = tf_dataset.filter(lambda x: x > 0)"
   ]
  },
  {
   "cell_type": "code",
   "execution_count": 35,
   "id": "08f4f925",
   "metadata": {},
   "outputs": [
    {
     "name": "stdout",
     "output_type": "stream",
     "text": [
      "45\n",
      "668\n",
      "21\n",
      "69\n",
      "41\n",
      "63\n",
      "21\n"
     ]
    }
   ],
   "source": [
    "for sales in tf_dataset.as_numpy_iterator():\n",
    "    print(sales)"
   ]
  },
  {
   "cell_type": "code",
   "execution_count": 36,
   "id": "bf841d6d",
   "metadata": {},
   "outputs": [
    {
     "name": "stdout",
     "output_type": "stream",
     "text": [
      "7470\n",
      "110888\n",
      "3486\n",
      "11454\n",
      "6806\n",
      "10458\n",
      "3486\n"
     ]
    }
   ],
   "source": [
    "tf_dataset = tf_dataset.map(lambda x: x * 166)\n",
    "for sales in tf_dataset.as_numpy_iterator():\n",
    "    print(sales)"
   ]
  },
  {
   "cell_type": "code",
   "execution_count": 37,
   "id": "93e8f39c",
   "metadata": {},
   "outputs": [
    {
     "name": "stdout",
     "output_type": "stream",
     "text": [
      "110888\n",
      "3486\n",
      "6806\n",
      "11454\n",
      "7470\n",
      "10458\n",
      "3486\n"
     ]
    }
   ],
   "source": [
    "tf_dataset = tf_dataset.shuffle(3)\n",
    "for sales in tf_dataset.as_numpy_iterator():\n",
    "    print(sales)"
   ]
  },
  {
   "cell_type": "code",
   "execution_count": 38,
   "id": "8497f08a",
   "metadata": {},
   "outputs": [
    {
     "name": "stdout",
     "output_type": "stream",
     "text": [
      "[  7470 110888]\n",
      "[6806 3486]\n",
      "[ 3486 11454]\n",
      "[10458]\n"
     ]
    }
   ],
   "source": [
    "for sales in tf_dataset.batch(2).as_numpy_iterator():\n",
    "    print(sales)"
   ]
  },
  {
   "cell_type": "code",
   "execution_count": 39,
   "id": "031a6d71",
   "metadata": {},
   "outputs": [
    {
     "name": "stdout",
     "output_type": "stream",
     "text": [
      "[7470 3486]\n",
      "[110888  10458]\n",
      "[3486 6806]\n",
      "[11454]\n"
     ]
    }
   ],
   "source": [
    "tf_dataset = tf.data.Dataset.from_tensor_slices(daily_sales)\n",
    "tf_dataset = tf_dataset.filter(lambda x: x > 0).map(lambda y: y * 166).shuffle(3).batch(2)\n",
    "for sales in tf_dataset.as_numpy_iterator():\n",
    "    print(sales)"
   ]
  },
  {
   "cell_type": "code",
   "execution_count": 68,
   "id": "98e14fbe",
   "metadata": {},
   "outputs": [],
   "source": [
    "images_ds = tf.data.Dataset.list_files(\"Training/PlantVillage/*/*\", shuffle=False)"
   ]
  },
  {
   "cell_type": "code",
   "execution_count": 69,
   "id": "480c483b",
   "metadata": {},
   "outputs": [
    {
     "name": "stdout",
     "output_type": "stream",
     "text": [
      "b'Training\\\\PlantVillage\\\\Early Blight\\\\001187a0-57ab-4329-baff-e7246a9edeb0___RS_Early.B 8178.JPG'\n",
      "b'Training\\\\PlantVillage\\\\Early Blight\\\\002a55fb-7a3d-4a3a-aca8-ce2d5ebc6925___RS_Early.B 8170.JPG'\n",
      "b'Training\\\\PlantVillage\\\\Early Blight\\\\009c8c31-f22d-4ffd-8f16-189c6f06c577___RS_Early.B 7885.JPG'\n",
      "b'Training\\\\PlantVillage\\\\Early Blight\\\\00d8f10f-5038-4e0f-bb58-0b885ddc0cc5___RS_Early.B 8722.JPG'\n",
      "b'Training\\\\PlantVillage\\\\Early Blight\\\\0182e991-97f0-4805-a1f7-6e1b4306d518___RS_Early.B 7015.JPG'\n",
      "b'Training\\\\PlantVillage\\\\Early Blight\\\\02578b86-b234-4ac0-9bc3-691b5610e2bf___RS_Early.B 7562.JPG'\n",
      "b'Training\\\\PlantVillage\\\\Early Blight\\\\0267d4ca-522e-4ca0-b1a2-ce925e5b54a2___RS_Early.B 7020.JPG'\n",
      "b'Training\\\\PlantVillage\\\\Early Blight\\\\028f9b73-142f-499a-9c7b-d7c1ed5e5506___RS_Early.B 8546.JPG'\n",
      "b'Training\\\\PlantVillage\\\\Early Blight\\\\034959c1-f1e8-4a79-a6d5-3c1d14efa2f3___RS_Early.B 7136.JPG'\n",
      "b'Training\\\\PlantVillage\\\\Early Blight\\\\03b0d3c1-b5b0-48f4-98aa-f8904670290f___RS_Early.B 7051.JPG'\n"
     ]
    }
   ],
   "source": [
    "for image in images_ds.take(10).as_numpy_iterator():\n",
    "    print(image)"
   ]
  },
  {
   "cell_type": "code",
   "execution_count": 70,
   "id": "fadc8fa4",
   "metadata": {},
   "outputs": [
    {
     "name": "stdout",
     "output_type": "stream",
     "text": [
      "b'Training\\\\PlantVillage\\\\Early Blight\\\\1d038d64-7f3c-4b4d-9b3d-7736f97b59a0___RS_Early.B 7994.JPG'\n",
      "b'Training\\\\PlantVillage\\\\Early Blight\\\\5cb0b99b-2e14-43b3-aa51-51a7ce668793___RS_Early.B 7455.JPG'\n",
      "b'Training\\\\PlantVillage\\\\Early Blight\\\\08392b44-ecc6-4f38-8566-361b552cfe21___RS_Early.B 7393.JPG'\n",
      "b'Training\\\\PlantVillage\\\\Early Blight\\\\667c593c-acbf-468a-91a3-6fd8006c46c2___RS_Early.B 7830.JPG'\n",
      "b'Training\\\\PlantVillage\\\\Early Blight\\\\34d7e068-10e6-4ea0-8547-c90937fccbbc___RS_Early.B 8198.JPG'\n",
      "b'Training\\\\PlantVillage\\\\Early Blight\\\\12ebe6fe-c8ce-4a00-866f-8776aca75159___RS_Early.B 6873.JPG'\n",
      "b'Training\\\\PlantVillage\\\\Early Blight\\\\0fd22207-cb37-42a1-965f-7dfe43f9d579___RS_Early.B 6876.JPG'\n",
      "b'Training\\\\PlantVillage\\\\Early Blight\\\\3a314933-9e92-4c90-acc2-656a04c591e7___RS_Early.B 8906.JPG'\n",
      "b'Training\\\\PlantVillage\\\\Early Blight\\\\05c35093-11b8-4cd0-b67a-148859754440___RS_Early.B 8939.JPG'\n",
      "b'Training\\\\PlantVillage\\\\Early Blight\\\\63f59fdf-973f-4d9e-a1ac-4a21cdfb9393___RS_Early.B 8794.JPG'\n"
     ]
    }
   ],
   "source": [
    "images_ds = images_ds.shuffle(400)\n",
    "for image in images_ds.take(10).as_numpy_iterator():\n",
    "    print(image)"
   ]
  },
  {
   "cell_type": "code",
   "execution_count": 71,
   "id": "7b1d0ced",
   "metadata": {},
   "outputs": [],
   "source": [
    "image_count = len(images_ds)"
   ]
  },
  {
   "cell_type": "code",
   "execution_count": 72,
   "id": "57e881ac",
   "metadata": {},
   "outputs": [],
   "source": [
    "train_size = int(image_count*0.8)"
   ]
  },
  {
   "cell_type": "code",
   "execution_count": 73,
   "id": "dc4db0a0",
   "metadata": {},
   "outputs": [],
   "source": [
    "train_imgs = images_ds.take(train_size)"
   ]
  },
  {
   "cell_type": "code",
   "execution_count": 74,
   "id": "98fbc225",
   "metadata": {},
   "outputs": [],
   "source": [
    "test_size = image_count - train_size"
   ]
  },
  {
   "cell_type": "code",
   "execution_count": 75,
   "id": "bee11a63",
   "metadata": {},
   "outputs": [],
   "source": [
    "test_imgs = images_ds.skip(train_size)"
   ]
  },
  {
   "cell_type": "code",
   "execution_count": 76,
   "id": "8223ebab",
   "metadata": {},
   "outputs": [],
   "source": [
    "classNames = [\"Early Blight\", \"Late Blight\", \"Healthy\"]"
   ]
  },
  {
   "cell_type": "code",
   "execution_count": 79,
   "id": "4f1a38fb",
   "metadata": {},
   "outputs": [],
   "source": [
    "def labelFinder(filePath):\n",
    "    import os\n",
    "    return tf.strings.split(filePath, os.path.sep)[-2]"
   ]
  },
  {
   "cell_type": "code",
   "execution_count": 82,
   "id": "f94b612b",
   "metadata": {},
   "outputs": [],
   "source": [
    "def processImg(filePath):\n",
    "    img = tf.io.read_file(filePath)\n",
    "    img = tf.image.decode_jpeg(img)\n",
    "    img = tf.image.resize(img, [128,128])\n",
    "    label = labelFinder(filePath)\n",
    "    return img, label"
   ]
  },
  {
   "cell_type": "code",
   "execution_count": 86,
   "id": "a78257a7",
   "metadata": {},
   "outputs": [
    {
     "name": "stdout",
     "output_type": "stream",
     "text": [
      "[[[123.75 120.75 129.75]\n",
      "  [120.   117.   126.  ]\n",
      "  [129.   126.   135.  ]\n",
      "  ...\n",
      "  [181.25 180.25 188.25]\n",
      "  [174.   173.   181.  ]\n",
      "  [174.25 173.25 181.25]]\n",
      "\n",
      " [[141.25 138.25 147.25]\n",
      "  [127.75 124.75 133.75]\n",
      "  [123.75 120.75 129.75]\n",
      "  ...\n",
      "  [180.75 179.75 187.75]\n",
      "  [181.5  180.5  188.5 ]\n",
      "  [177.5  176.5  184.5 ]]\n",
      "\n",
      " [[128.25 125.25 134.25]\n",
      "  [119.   116.   125.  ]\n",
      "  [121.75 118.75 127.75]\n",
      "  ...\n",
      "  [174.5  173.5  181.5 ]\n",
      "  [175.5  174.5  182.5 ]\n",
      "  [174.75 173.75 181.75]]\n",
      "\n",
      " ...\n",
      "\n",
      " [[126.5  124.5  137.5 ]\n",
      "  [111.5  109.5  122.5 ]\n",
      "  [112.25 110.25 123.25]\n",
      "  ...\n",
      "  [151.25 150.25 164.25]\n",
      "  [149.   148.   162.  ]\n",
      "  [147.75 146.75 160.75]]\n",
      "\n",
      " [[137.5  135.5  148.5 ]\n",
      "  [120.5  118.5  131.5 ]\n",
      "  [132.   130.   143.  ]\n",
      "  ...\n",
      "  [145.   147.   160.  ]\n",
      "  [147.5  149.5  162.5 ]\n",
      "  [149.   151.   164.  ]]\n",
      "\n",
      " [[132.   130.   143.  ]\n",
      "  [118.25 116.25 129.25]\n",
      "  [119.5  117.5  130.5 ]\n",
      "  ...\n",
      "  [151.25 153.25 166.25]\n",
      "  [146.75 148.75 161.75]\n",
      "  [152.25 154.25 167.25]]]\n",
      "b'Early Blight'\n",
      "[[[104.75 107.75 116.75]\n",
      "  [119.75 122.75 131.75]\n",
      "  [112.5  115.5  124.5 ]\n",
      "  ...\n",
      "  [151.5  153.5  165.5 ]\n",
      "  [158.   160.   172.  ]\n",
      "  [156.   158.   170.  ]]\n",
      "\n",
      " [[113.75 116.75 125.75]\n",
      "  [107.5  110.5  119.5 ]\n",
      "  [120.25 123.25 132.25]\n",
      "  ...\n",
      "  [150.5  152.5  164.5 ]\n",
      "  [156.75 158.75 170.75]\n",
      "  [159.75 161.75 173.75]]\n",
      "\n",
      " [[117.25 120.25 129.25]\n",
      "  [123.25 126.25 135.25]\n",
      "  [131.25 134.25 143.25]\n",
      "  ...\n",
      "  [153.   155.   167.  ]\n",
      "  [156.   158.   170.  ]\n",
      "  [159.25 161.25 173.25]]\n",
      "\n",
      " ...\n",
      "\n",
      " [[109.5  111.5  126.  ]\n",
      "  [119.   121.   134.5 ]\n",
      "  [112.   114.   127.  ]\n",
      "  ...\n",
      "  [147.75 148.75 166.75]\n",
      "  [140.5  141.5  159.5 ]\n",
      "  [140.   141.   159.  ]]\n",
      "\n",
      " [[118.   119.25 136.5 ]\n",
      "  [110.75 112.75 127.75]\n",
      "  [112.   114.   128.5 ]\n",
      "  ...\n",
      "  [146.5  147.5  165.5 ]\n",
      "  [140.25 141.25 159.25]\n",
      "  [146.   147.   165.  ]]\n",
      "\n",
      " [[109.75 110.75 128.75]\n",
      "  [110.25 111.25 129.25]\n",
      "  [109.25 111.25 126.25]\n",
      "  ...\n",
      "  [141.5  142.5  160.5 ]\n",
      "  [135.5  136.5  154.5 ]\n",
      "  [137.75 138.75 156.75]]]\n",
      "b'Early Blight'\n",
      "[[[190.5  184.5  188.5 ]\n",
      "  [181.   175.   179.  ]\n",
      "  [184.25 178.25 182.25]\n",
      "  ...\n",
      "  [141.   132.   137.  ]\n",
      "  [150.25 141.25 146.25]\n",
      "  [145.75 136.75 141.75]]\n",
      "\n",
      " [[186.5  180.5  184.5 ]\n",
      "  [177.   171.   175.  ]\n",
      "  [176.75 170.75 174.75]\n",
      "  ...\n",
      "  [142.75 133.75 136.75]\n",
      "  [148.75 137.75 141.75]\n",
      "  [131.   120.   124.  ]]\n",
      "\n",
      " [[187.   181.   185.  ]\n",
      "  [183.5  177.5  181.5 ]\n",
      "  [181.25 175.25 179.25]\n",
      "  ...\n",
      "  [144.5  134.5  135.5 ]\n",
      "  [146.   134.   136.  ]\n",
      "  [143.25 131.25 133.25]]\n",
      "\n",
      " ...\n",
      "\n",
      " [[154.75 148.75 150.75]\n",
      "  [156.25 150.25 152.25]\n",
      "  [154.25 148.25 150.25]\n",
      "  ...\n",
      "  [127.75 118.75 121.75]\n",
      "  [123.25 114.25 117.25]\n",
      "  [111.25 102.25 105.25]]\n",
      "\n",
      " [[156.75 150.75 152.75]\n",
      "  [161.5  155.5  157.5 ]\n",
      "  [158.75 152.75 154.75]\n",
      "  ...\n",
      "  [133.5  124.5  127.5 ]\n",
      "  [119.75 110.75 113.75]\n",
      "  [121.75 112.75 115.75]]\n",
      "\n",
      " [[165.25 159.25 161.25]\n",
      "  [162.25 156.25 158.25]\n",
      "  [160.75 154.75 156.75]\n",
      "  ...\n",
      "  [121.75 112.75 115.75]\n",
      "  [123.25 114.25 117.25]\n",
      "  [116.75 107.75 110.75]]]\n",
      "b'Early Blight'\n",
      "[[[115.5  113.5  124.5 ]\n",
      "  [121.25 119.25 130.25]\n",
      "  [113.75 111.75 122.75]\n",
      "  ...\n",
      "  [143.   145.   157.  ]\n",
      "  [143.75 145.75 157.75]\n",
      "  [146.75 148.75 160.75]]\n",
      "\n",
      " [[112.   110.   121.  ]\n",
      "  [124.   122.   133.  ]\n",
      "  [118.   116.   127.  ]\n",
      "  ...\n",
      "  [143.25 145.25 157.25]\n",
      "  [145.   147.   159.  ]\n",
      "  [150.25 152.25 164.25]]\n",
      "\n",
      " [[116.75 114.75 125.75]\n",
      "  [121.5  119.5  130.5 ]\n",
      "  [118.   116.   127.  ]\n",
      "  ...\n",
      "  [147.   149.   161.  ]\n",
      "  [147.5  149.5  161.5 ]\n",
      "  [154.25 156.25 168.25]]\n",
      "\n",
      " ...\n",
      "\n",
      " [[123.   125.   137.  ]\n",
      "  [123.75 125.75 137.75]\n",
      "  [131.   133.   145.  ]\n",
      "  ...\n",
      "  [194.   196.   208.  ]\n",
      "  [184.25 186.25 198.25]\n",
      "  [177.5  179.5  191.5 ]]\n",
      "\n",
      " [[132.75 134.75 146.75]\n",
      "  [130.25 132.25 144.25]\n",
      "  [133.25 135.25 147.25]\n",
      "  ...\n",
      "  [186.25 188.25 200.25]\n",
      "  [174.75 176.75 188.75]\n",
      "  [178.75 180.75 192.75]]\n",
      "\n",
      " [[130.5  132.5  144.5 ]\n",
      "  [137.5  139.5  151.5 ]\n",
      "  [137.25 139.25 151.25]\n",
      "  ...\n",
      "  [183.25 185.25 197.25]\n",
      "  [174.75 176.75 188.75]\n",
      "  [173.5  175.5  187.5 ]]]\n",
      "b'Early Blight'\n",
      "[[[175.25 179.25 190.25]\n",
      "  [171.5  175.5  186.5 ]\n",
      "  [173.25 177.25 188.25]\n",
      "  ...\n",
      "  [132.75 134.75 147.75]\n",
      "  [133.   135.   148.  ]\n",
      "  [140.   142.   155.  ]]\n",
      "\n",
      " [[203.75 207.75 218.75]\n",
      "  [176.75 180.75 191.75]\n",
      "  [183.75 187.75 198.75]\n",
      "  ...\n",
      "  [142.5  144.5  157.5 ]\n",
      "  [145.5  147.5  160.5 ]\n",
      "  [146.5  148.5  161.5 ]]\n",
      "\n",
      " [[191.   195.   206.  ]\n",
      "  [200.5  204.5  215.5 ]\n",
      "  [190.   194.   205.  ]\n",
      "  ...\n",
      "  [140.   142.   155.  ]\n",
      "  [145.25 147.25 160.25]\n",
      "  [145.5  147.5  160.5 ]]\n",
      "\n",
      " ...\n",
      "\n",
      " [[161.   163.   175.  ]\n",
      "  [162.   164.   176.  ]\n",
      "  [162.25 164.25 176.25]\n",
      "  ...\n",
      "  [132.25 130.25 141.25]\n",
      "  [132.75 130.75 141.75]\n",
      "  [121.75 119.75 130.75]]\n",
      "\n",
      " [[158.   160.   172.  ]\n",
      "  [158.25 160.25 172.25]\n",
      "  [160.   162.   174.  ]\n",
      "  ...\n",
      "  [132.5  130.5  141.5 ]\n",
      "  [144.25 142.25 153.25]\n",
      "  [142.75 140.75 151.75]]\n",
      "\n",
      " [[155.   157.   169.  ]\n",
      "  [153.5  155.5  167.5 ]\n",
      "  [154.75 156.75 168.75]\n",
      "  ...\n",
      "  [130.5  128.5  139.5 ]\n",
      "  [132.75 130.75 141.75]\n",
      "  [138.5  136.5  147.5 ]]]\n",
      "b'Early Blight'\n"
     ]
    }
   ],
   "source": [
    "train_imgs = train_imgs.map(processImg)\n",
    "for img, label in train_imgs.take(5).as_numpy_iterator():\n",
    "    print(img)\n",
    "    print(label)"
   ]
  },
  {
   "cell_type": "code",
   "execution_count": 87,
   "id": "9f647bf6",
   "metadata": {},
   "outputs": [],
   "source": [
    "def scale(img, label):\n",
    "    return img/255, label"
   ]
  },
  {
   "cell_type": "code",
   "execution_count": 88,
   "id": "33f2805a",
   "metadata": {},
   "outputs": [
    {
     "name": "stdout",
     "output_type": "stream",
     "text": [
      "[0.42647058 0.43823528 0.50490195]\n",
      "b'Early Blight'\n",
      "[0.6039216  0.5921569  0.61960787]\n",
      "b'Early Blight'\n",
      "[0.68921566 0.6970588  0.7441176 ]\n",
      "b'Early Blight'\n",
      "[0.50784314 0.49215686 0.5470588 ]\n",
      "b'Early Blight'\n",
      "[0.5901961  0.58235294 0.6372549 ]\n",
      "b'Early Blight'\n"
     ]
    }
   ],
   "source": [
    "train_imgs = train_imgs.map(scale)\n",
    "for img, label in train_imgs.take(5).as_numpy_iterator():\n",
    "    print(img[0][0])\n",
    "    print(label)"
   ]
  },
  {
   "cell_type": "code",
   "execution_count": null,
   "id": "888a3774",
   "metadata": {},
   "outputs": [],
   "source": []
  }
 ],
 "metadata": {
  "kernelspec": {
   "display_name": "Python 3 (ipykernel)",
   "language": "python",
   "name": "python3"
  },
  "language_info": {
   "codemirror_mode": {
    "name": "ipython",
    "version": 3
   },
   "file_extension": ".py",
   "mimetype": "text/x-python",
   "name": "python",
   "nbconvert_exporter": "python",
   "pygments_lexer": "ipython3",
   "version": "3.9.5"
  }
 },
 "nbformat": 4,
 "nbformat_minor": 5
}
